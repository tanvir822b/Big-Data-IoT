{
  "nbformat": 4,
  "nbformat_minor": 0,
  "metadata": {
    "colab": {
      "provenance": []
    },
    "kernelspec": {
      "name": "python3",
      "display_name": "Python 3"
    },
    "language_info": {
      "name": "python"
    },
    "accelerator": "TPU"
  },
  "cells": [
    {
      "cell_type": "code",
      "execution_count": 117,
      "metadata": {
        "id": "VaYH8HuA9dcI"
      },
      "outputs": [],
      "source": [
        "!apt-get install openjdk-8-jdk-headless -qq > /dev/null\n",
        "!wget -q http://archive.apache.org/dist/spark/spark-3.1.1/spark-3.1.1-bin-hadoop3.2.tgz\n",
        "!tar xf spark-3.1.1-bin-hadoop3.2.tgz\n",
        "!pip install -q findspark\n",
        "\n",
        "import os\n",
        "os.environ[\"JAVA_HOME\"] = \"/usr/lib/jvm/java-8-openjdk-amd64\"\n",
        "os.environ[\"SPARK_HOME\"] = \"/content/spark-3.1.1-bin-hadoop3.2\""
      ]
    },
    {
      "cell_type": "code",
      "source": [
        "import findspark\n",
        "findspark.init()"
      ],
      "metadata": {
        "id": "wDkwpK6J94Kc"
      },
      "execution_count": 118,
      "outputs": []
    },
    {
      "cell_type": "code",
      "source": [
        "from pyspark.sql import SparkSession\n",
        "spark = SparkSession.builder.appName(\"ClassificationwithSpark\").getOrCreate()"
      ],
      "metadata": {
        "id": "WO_UOBUd96BU"
      },
      "execution_count": 119,
      "outputs": []
    },
    {
      "cell_type": "code",
      "source": [
        "#function\n",
        "from itertools import chain\n",
        "from pyspark.sql.functions import count, mean, when, lit, create_map, regexp_extract"
      ],
      "metadata": {
        "id": "pCuZxFAm95-C"
      },
      "execution_count": 120,
      "outputs": []
    },
    {
      "cell_type": "code",
      "source": [
        "from google.colab import drive\n",
        "drive.mount('/content/drive')"
      ],
      "metadata": {
        "colab": {
          "base_uri": "https://localhost:8080/"
        },
        "id": "vG6P9K8c2Z_w",
        "outputId": "0a6971f8-0a71-46f8-cbb6-49c36316f80f"
      },
      "execution_count": 121,
      "outputs": [
        {
          "output_type": "stream",
          "name": "stdout",
          "text": [
            "Drive already mounted at /content/drive; to attempt to forcibly remount, call drive.mount(\"/content/drive\", force_remount=True).\n"
          ]
        }
      ]
    },
    {
      "cell_type": "code",
      "source": [
        "\n",
        "df1 = spark.read.csv('/content/drive/MyDrive/iot/dementia_dataset.csv',\n",
        "                     header=True, inferSchema=True)"
      ],
      "metadata": {
        "id": "yYRsS8oc957n"
      },
      "execution_count": 122,
      "outputs": []
    },
    {
      "cell_type": "code",
      "source": [
        "\n",
        "df1.printSchema()"
      ],
      "metadata": {
        "colab": {
          "base_uri": "https://localhost:8080/"
        },
        "id": "oU7vSAG1955u",
        "outputId": "e05629cf-0808-4d85-8a3c-567f5a16c9ff"
      },
      "execution_count": 123,
      "outputs": [
        {
          "output_type": "stream",
          "name": "stdout",
          "text": [
            "root\n",
            " |-- Subject ID: string (nullable = true)\n",
            " |-- MRI ID: string (nullable = true)\n",
            " |-- Group: string (nullable = true)\n",
            " |-- Visit: integer (nullable = true)\n",
            " |-- MR Delay: integer (nullable = true)\n",
            " |-- M/F: string (nullable = true)\n",
            " |-- Hand: string (nullable = true)\n",
            " |-- Age: integer (nullable = true)\n",
            " |-- EDUC: integer (nullable = true)\n",
            " |-- SES: integer (nullable = true)\n",
            " |-- MMSE: integer (nullable = true)\n",
            " |-- CDR: double (nullable = true)\n",
            " |-- eTIV: integer (nullable = true)\n",
            " |-- nWBV: double (nullable = true)\n",
            " |-- ASF: double (nullable = true)\n",
            "\n"
          ]
        }
      ]
    },
    {
      "cell_type": "code",
      "source": [
        "\n",
        "df1.show()"
      ],
      "metadata": {
        "colab": {
          "base_uri": "https://localhost:8080/"
        },
        "id": "3-D9-3c5953r",
        "outputId": "3f674c41-cd60-4b08-a0ff-e3bbe22b18a7"
      },
      "execution_count": 124,
      "outputs": [
        {
          "output_type": "stream",
          "name": "stdout",
          "text": [
            "+----------+-------------+-----------+-----+--------+---+----+---+----+----+----+---+----+-----+-----+\n",
            "|Subject ID|       MRI ID|      Group|Visit|MR Delay|M/F|Hand|Age|EDUC| SES|MMSE|CDR|eTIV| nWBV|  ASF|\n",
            "+----------+-------------+-----------+-----+--------+---+----+---+----+----+----+---+----+-----+-----+\n",
            "| OAS2_0001|OAS2_0001_MR1|Nondemented|    1|       0|  M|   R| 87|  14|   2|  27|0.0|1987|0.696|0.883|\n",
            "| OAS2_0001|OAS2_0001_MR2|Nondemented|    2|     457|  M|   R| 88|  14|   2|  30|0.0|2004|0.681|0.876|\n",
            "| OAS2_0002|OAS2_0002_MR1|   Demented|    1|       0|  M|   R| 75|  12|null|  23|0.5|1678|0.736|1.046|\n",
            "| OAS2_0002|OAS2_0002_MR2|   Demented|    2|     560|  M|   R| 76|  12|null|  28|0.5|1738|0.713| 1.01|\n",
            "| OAS2_0002|OAS2_0002_MR3|   Demented|    3|    1895|  M|   R| 80|  12|null|  22|0.5|1698|0.701|1.034|\n",
            "| OAS2_0004|OAS2_0004_MR1|Nondemented|    1|       0|  F|   R| 88|  18|   3|  28|0.0|1215| 0.71|1.444|\n",
            "| OAS2_0004|OAS2_0004_MR2|Nondemented|    2|     538|  F|   R| 90|  18|   3|  27|0.0|1200|0.718|1.462|\n",
            "| OAS2_0005|OAS2_0005_MR1|Nondemented|    1|       0|  M|   R| 80|  12|   4|  28|0.0|1689|0.712|1.039|\n",
            "| OAS2_0005|OAS2_0005_MR2|Nondemented|    2|    1010|  M|   R| 83|  12|   4|  29|0.5|1701|0.711|1.032|\n",
            "| OAS2_0005|OAS2_0005_MR3|Nondemented|    3|    1603|  M|   R| 85|  12|   4|  30|0.0|1699|0.705|1.033|\n",
            "| OAS2_0007|OAS2_0007_MR1|   Demented|    1|       0|  M|   R| 71|  16|null|  28|0.5|1357|0.748|1.293|\n",
            "| OAS2_0007|OAS2_0007_MR3|   Demented|    3|     518|  M|   R| 73|  16|null|  27|1.0|1365|0.727|1.286|\n",
            "| OAS2_0007|OAS2_0007_MR4|   Demented|    4|    1281|  M|   R| 75|  16|null|  27|1.0|1372| 0.71|1.279|\n",
            "| OAS2_0008|OAS2_0008_MR1|Nondemented|    1|       0|  F|   R| 93|  14|   2|  30|0.0|1272|0.698| 1.38|\n",
            "| OAS2_0008|OAS2_0008_MR2|Nondemented|    2|     742|  F|   R| 95|  14|   2|  29|0.0|1257|0.703|1.396|\n",
            "| OAS2_0009|OAS2_0009_MR1|   Demented|    1|       0|  M|   R| 68|  12|   2|  27|0.5|1457|0.806|1.205|\n",
            "| OAS2_0009|OAS2_0009_MR2|   Demented|    2|     576|  M|   R| 69|  12|   2|  24|0.5|1480|0.791|1.186|\n",
            "| OAS2_0010|OAS2_0010_MR1|   Demented|    1|       0|  F|   R| 66|  12|   3|  30|0.5|1447|0.769|1.213|\n",
            "| OAS2_0010|OAS2_0010_MR2|   Demented|    2|     854|  F|   R| 68|  12|   3|  29|0.5|1482|0.752|1.184|\n",
            "| OAS2_0012|OAS2_0012_MR1|Nondemented|    1|       0|  F|   R| 78|  16|   2|  29|0.0|1333|0.748|1.316|\n",
            "+----------+-------------+-----------+-----+--------+---+----+---+----+----+----+---+----+-----+-----+\n",
            "only showing top 20 rows\n",
            "\n"
          ]
        }
      ]
    },
    {
      "cell_type": "code",
      "source": [
        "df1.limit(100).toPandas()"
      ],
      "metadata": {
        "colab": {
          "base_uri": "https://localhost:8080/",
          "height": 441
        },
        "id": "_u0HdtX6CYw3",
        "outputId": "f2e278aa-f9c4-4ba7-9328-95736a87e887"
      },
      "execution_count": 125,
      "outputs": [
        {
          "output_type": "execute_result",
          "data": {
            "text/plain": [
              "   Subject ID         MRI ID        Group  Visit  MR Delay M/F Hand  Age  \\\n",
              "0   OAS2_0001  OAS2_0001_MR1  Nondemented      1         0   M    R   87   \n",
              "1   OAS2_0001  OAS2_0001_MR2  Nondemented      2       457   M    R   88   \n",
              "2   OAS2_0002  OAS2_0002_MR1     Demented      1         0   M    R   75   \n",
              "3   OAS2_0002  OAS2_0002_MR2     Demented      2       560   M    R   76   \n",
              "4   OAS2_0002  OAS2_0002_MR3     Demented      3      1895   M    R   80   \n",
              "..        ...            ...          ...    ...       ...  ..  ...  ...   \n",
              "95  OAS2_0047  OAS2_0047_MR1  Nondemented      1         0   F    R   77   \n",
              "96  OAS2_0047  OAS2_0047_MR2  Nondemented      2       486   F    R   78   \n",
              "97  OAS2_0048  OAS2_0048_MR1     Demented      1         0   M    R   66   \n",
              "98  OAS2_0048  OAS2_0048_MR2     Demented      2       248   M    R   66   \n",
              "99  OAS2_0048  OAS2_0048_MR3     Demented      3       647   M    R   68   \n",
              "\n",
              "    EDUC  SES  MMSE  CDR  eTIV   nWBV    ASF  \n",
              "0     14  2.0    27  0.0  1987  0.696  0.883  \n",
              "1     14  2.0    30  0.0  2004  0.681  0.876  \n",
              "2     12  NaN    23  0.5  1678  0.736  1.046  \n",
              "3     12  NaN    28  0.5  1738  0.713  1.010  \n",
              "4     12  NaN    22  0.5  1698  0.701  1.034  \n",
              "..   ...  ...   ...  ...   ...    ...    ...  \n",
              "95    16  2.0    29  0.0  1433  0.723  1.225  \n",
              "96    16  2.0    27  0.0  1414  0.727  1.242  \n",
              "97    16  1.0    19  1.0  1695  0.711  1.036  \n",
              "98    16  1.0    21  1.0  1708  0.703  1.028  \n",
              "99    16  1.0    19  1.0  1712  0.691  1.025  \n",
              "\n",
              "[100 rows x 15 columns]"
            ],
            "text/html": [
              "\n",
              "  <div id=\"df-025b6da2-4391-40f1-80d9-597e3bc91d67\" class=\"colab-df-container\">\n",
              "    <div>\n",
              "<style scoped>\n",
              "    .dataframe tbody tr th:only-of-type {\n",
              "        vertical-align: middle;\n",
              "    }\n",
              "\n",
              "    .dataframe tbody tr th {\n",
              "        vertical-align: top;\n",
              "    }\n",
              "\n",
              "    .dataframe thead th {\n",
              "        text-align: right;\n",
              "    }\n",
              "</style>\n",
              "<table border=\"1\" class=\"dataframe\">\n",
              "  <thead>\n",
              "    <tr style=\"text-align: right;\">\n",
              "      <th></th>\n",
              "      <th>Subject ID</th>\n",
              "      <th>MRI ID</th>\n",
              "      <th>Group</th>\n",
              "      <th>Visit</th>\n",
              "      <th>MR Delay</th>\n",
              "      <th>M/F</th>\n",
              "      <th>Hand</th>\n",
              "      <th>Age</th>\n",
              "      <th>EDUC</th>\n",
              "      <th>SES</th>\n",
              "      <th>MMSE</th>\n",
              "      <th>CDR</th>\n",
              "      <th>eTIV</th>\n",
              "      <th>nWBV</th>\n",
              "      <th>ASF</th>\n",
              "    </tr>\n",
              "  </thead>\n",
              "  <tbody>\n",
              "    <tr>\n",
              "      <th>0</th>\n",
              "      <td>OAS2_0001</td>\n",
              "      <td>OAS2_0001_MR1</td>\n",
              "      <td>Nondemented</td>\n",
              "      <td>1</td>\n",
              "      <td>0</td>\n",
              "      <td>M</td>\n",
              "      <td>R</td>\n",
              "      <td>87</td>\n",
              "      <td>14</td>\n",
              "      <td>2.0</td>\n",
              "      <td>27</td>\n",
              "      <td>0.0</td>\n",
              "      <td>1987</td>\n",
              "      <td>0.696</td>\n",
              "      <td>0.883</td>\n",
              "    </tr>\n",
              "    <tr>\n",
              "      <th>1</th>\n",
              "      <td>OAS2_0001</td>\n",
              "      <td>OAS2_0001_MR2</td>\n",
              "      <td>Nondemented</td>\n",
              "      <td>2</td>\n",
              "      <td>457</td>\n",
              "      <td>M</td>\n",
              "      <td>R</td>\n",
              "      <td>88</td>\n",
              "      <td>14</td>\n",
              "      <td>2.0</td>\n",
              "      <td>30</td>\n",
              "      <td>0.0</td>\n",
              "      <td>2004</td>\n",
              "      <td>0.681</td>\n",
              "      <td>0.876</td>\n",
              "    </tr>\n",
              "    <tr>\n",
              "      <th>2</th>\n",
              "      <td>OAS2_0002</td>\n",
              "      <td>OAS2_0002_MR1</td>\n",
              "      <td>Demented</td>\n",
              "      <td>1</td>\n",
              "      <td>0</td>\n",
              "      <td>M</td>\n",
              "      <td>R</td>\n",
              "      <td>75</td>\n",
              "      <td>12</td>\n",
              "      <td>NaN</td>\n",
              "      <td>23</td>\n",
              "      <td>0.5</td>\n",
              "      <td>1678</td>\n",
              "      <td>0.736</td>\n",
              "      <td>1.046</td>\n",
              "    </tr>\n",
              "    <tr>\n",
              "      <th>3</th>\n",
              "      <td>OAS2_0002</td>\n",
              "      <td>OAS2_0002_MR2</td>\n",
              "      <td>Demented</td>\n",
              "      <td>2</td>\n",
              "      <td>560</td>\n",
              "      <td>M</td>\n",
              "      <td>R</td>\n",
              "      <td>76</td>\n",
              "      <td>12</td>\n",
              "      <td>NaN</td>\n",
              "      <td>28</td>\n",
              "      <td>0.5</td>\n",
              "      <td>1738</td>\n",
              "      <td>0.713</td>\n",
              "      <td>1.010</td>\n",
              "    </tr>\n",
              "    <tr>\n",
              "      <th>4</th>\n",
              "      <td>OAS2_0002</td>\n",
              "      <td>OAS2_0002_MR3</td>\n",
              "      <td>Demented</td>\n",
              "      <td>3</td>\n",
              "      <td>1895</td>\n",
              "      <td>M</td>\n",
              "      <td>R</td>\n",
              "      <td>80</td>\n",
              "      <td>12</td>\n",
              "      <td>NaN</td>\n",
              "      <td>22</td>\n",
              "      <td>0.5</td>\n",
              "      <td>1698</td>\n",
              "      <td>0.701</td>\n",
              "      <td>1.034</td>\n",
              "    </tr>\n",
              "    <tr>\n",
              "      <th>...</th>\n",
              "      <td>...</td>\n",
              "      <td>...</td>\n",
              "      <td>...</td>\n",
              "      <td>...</td>\n",
              "      <td>...</td>\n",
              "      <td>...</td>\n",
              "      <td>...</td>\n",
              "      <td>...</td>\n",
              "      <td>...</td>\n",
              "      <td>...</td>\n",
              "      <td>...</td>\n",
              "      <td>...</td>\n",
              "      <td>...</td>\n",
              "      <td>...</td>\n",
              "      <td>...</td>\n",
              "    </tr>\n",
              "    <tr>\n",
              "      <th>95</th>\n",
              "      <td>OAS2_0047</td>\n",
              "      <td>OAS2_0047_MR1</td>\n",
              "      <td>Nondemented</td>\n",
              "      <td>1</td>\n",
              "      <td>0</td>\n",
              "      <td>F</td>\n",
              "      <td>R</td>\n",
              "      <td>77</td>\n",
              "      <td>16</td>\n",
              "      <td>2.0</td>\n",
              "      <td>29</td>\n",
              "      <td>0.0</td>\n",
              "      <td>1433</td>\n",
              "      <td>0.723</td>\n",
              "      <td>1.225</td>\n",
              "    </tr>\n",
              "    <tr>\n",
              "      <th>96</th>\n",
              "      <td>OAS2_0047</td>\n",
              "      <td>OAS2_0047_MR2</td>\n",
              "      <td>Nondemented</td>\n",
              "      <td>2</td>\n",
              "      <td>486</td>\n",
              "      <td>F</td>\n",
              "      <td>R</td>\n",
              "      <td>78</td>\n",
              "      <td>16</td>\n",
              "      <td>2.0</td>\n",
              "      <td>27</td>\n",
              "      <td>0.0</td>\n",
              "      <td>1414</td>\n",
              "      <td>0.727</td>\n",
              "      <td>1.242</td>\n",
              "    </tr>\n",
              "    <tr>\n",
              "      <th>97</th>\n",
              "      <td>OAS2_0048</td>\n",
              "      <td>OAS2_0048_MR1</td>\n",
              "      <td>Demented</td>\n",
              "      <td>1</td>\n",
              "      <td>0</td>\n",
              "      <td>M</td>\n",
              "      <td>R</td>\n",
              "      <td>66</td>\n",
              "      <td>16</td>\n",
              "      <td>1.0</td>\n",
              "      <td>19</td>\n",
              "      <td>1.0</td>\n",
              "      <td>1695</td>\n",
              "      <td>0.711</td>\n",
              "      <td>1.036</td>\n",
              "    </tr>\n",
              "    <tr>\n",
              "      <th>98</th>\n",
              "      <td>OAS2_0048</td>\n",
              "      <td>OAS2_0048_MR2</td>\n",
              "      <td>Demented</td>\n",
              "      <td>2</td>\n",
              "      <td>248</td>\n",
              "      <td>M</td>\n",
              "      <td>R</td>\n",
              "      <td>66</td>\n",
              "      <td>16</td>\n",
              "      <td>1.0</td>\n",
              "      <td>21</td>\n",
              "      <td>1.0</td>\n",
              "      <td>1708</td>\n",
              "      <td>0.703</td>\n",
              "      <td>1.028</td>\n",
              "    </tr>\n",
              "    <tr>\n",
              "      <th>99</th>\n",
              "      <td>OAS2_0048</td>\n",
              "      <td>OAS2_0048_MR3</td>\n",
              "      <td>Demented</td>\n",
              "      <td>3</td>\n",
              "      <td>647</td>\n",
              "      <td>M</td>\n",
              "      <td>R</td>\n",
              "      <td>68</td>\n",
              "      <td>16</td>\n",
              "      <td>1.0</td>\n",
              "      <td>19</td>\n",
              "      <td>1.0</td>\n",
              "      <td>1712</td>\n",
              "      <td>0.691</td>\n",
              "      <td>1.025</td>\n",
              "    </tr>\n",
              "  </tbody>\n",
              "</table>\n",
              "<p>100 rows × 15 columns</p>\n",
              "</div>\n",
              "    <div class=\"colab-df-buttons\">\n",
              "\n",
              "  <div class=\"colab-df-container\">\n",
              "    <button class=\"colab-df-convert\" onclick=\"convertToInteractive('df-025b6da2-4391-40f1-80d9-597e3bc91d67')\"\n",
              "            title=\"Convert this dataframe to an interactive table.\"\n",
              "            style=\"display:none;\">\n",
              "\n",
              "  <svg xmlns=\"http://www.w3.org/2000/svg\" height=\"24px\" viewBox=\"0 -960 960 960\">\n",
              "    <path d=\"M120-120v-720h720v720H120Zm60-500h600v-160H180v160Zm220 220h160v-160H400v160Zm0 220h160v-160H400v160ZM180-400h160v-160H180v160Zm440 0h160v-160H620v160ZM180-180h160v-160H180v160Zm440 0h160v-160H620v160Z\"/>\n",
              "  </svg>\n",
              "    </button>\n",
              "\n",
              "  <style>\n",
              "    .colab-df-container {\n",
              "      display:flex;\n",
              "      gap: 12px;\n",
              "    }\n",
              "\n",
              "    .colab-df-convert {\n",
              "      background-color: #E8F0FE;\n",
              "      border: none;\n",
              "      border-radius: 50%;\n",
              "      cursor: pointer;\n",
              "      display: none;\n",
              "      fill: #1967D2;\n",
              "      height: 32px;\n",
              "      padding: 0 0 0 0;\n",
              "      width: 32px;\n",
              "    }\n",
              "\n",
              "    .colab-df-convert:hover {\n",
              "      background-color: #E2EBFA;\n",
              "      box-shadow: 0px 1px 2px rgba(60, 64, 67, 0.3), 0px 1px 3px 1px rgba(60, 64, 67, 0.15);\n",
              "      fill: #174EA6;\n",
              "    }\n",
              "\n",
              "    .colab-df-buttons div {\n",
              "      margin-bottom: 4px;\n",
              "    }\n",
              "\n",
              "    [theme=dark] .colab-df-convert {\n",
              "      background-color: #3B4455;\n",
              "      fill: #D2E3FC;\n",
              "    }\n",
              "\n",
              "    [theme=dark] .colab-df-convert:hover {\n",
              "      background-color: #434B5C;\n",
              "      box-shadow: 0px 1px 3px 1px rgba(0, 0, 0, 0.15);\n",
              "      filter: drop-shadow(0px 1px 2px rgba(0, 0, 0, 0.3));\n",
              "      fill: #FFFFFF;\n",
              "    }\n",
              "  </style>\n",
              "\n",
              "    <script>\n",
              "      const buttonEl =\n",
              "        document.querySelector('#df-025b6da2-4391-40f1-80d9-597e3bc91d67 button.colab-df-convert');\n",
              "      buttonEl.style.display =\n",
              "        google.colab.kernel.accessAllowed ? 'block' : 'none';\n",
              "\n",
              "      async function convertToInteractive(key) {\n",
              "        const element = document.querySelector('#df-025b6da2-4391-40f1-80d9-597e3bc91d67');\n",
              "        const dataTable =\n",
              "          await google.colab.kernel.invokeFunction('convertToInteractive',\n",
              "                                                    [key], {});\n",
              "        if (!dataTable) return;\n",
              "\n",
              "        const docLinkHtml = 'Like what you see? Visit the ' +\n",
              "          '<a target=\"_blank\" href=https://colab.research.google.com/notebooks/data_table.ipynb>data table notebook</a>'\n",
              "          + ' to learn more about interactive tables.';\n",
              "        element.innerHTML = '';\n",
              "        dataTable['output_type'] = 'display_data';\n",
              "        await google.colab.output.renderOutput(dataTable, element);\n",
              "        const docLink = document.createElement('div');\n",
              "        docLink.innerHTML = docLinkHtml;\n",
              "        element.appendChild(docLink);\n",
              "      }\n",
              "    </script>\n",
              "  </div>\n",
              "\n",
              "\n",
              "<div id=\"df-807a1f2f-9057-4a3b-9a62-1b46900dd980\">\n",
              "  <button class=\"colab-df-quickchart\" onclick=\"quickchart('df-807a1f2f-9057-4a3b-9a62-1b46900dd980')\"\n",
              "            title=\"Suggest charts\"\n",
              "            style=\"display:none;\">\n",
              "\n",
              "<svg xmlns=\"http://www.w3.org/2000/svg\" height=\"24px\"viewBox=\"0 0 24 24\"\n",
              "     width=\"24px\">\n",
              "    <g>\n",
              "        <path d=\"M19 3H5c-1.1 0-2 .9-2 2v14c0 1.1.9 2 2 2h14c1.1 0 2-.9 2-2V5c0-1.1-.9-2-2-2zM9 17H7v-7h2v7zm4 0h-2V7h2v10zm4 0h-2v-4h2v4z\"/>\n",
              "    </g>\n",
              "</svg>\n",
              "  </button>\n",
              "\n",
              "<style>\n",
              "  .colab-df-quickchart {\n",
              "      --bg-color: #E8F0FE;\n",
              "      --fill-color: #1967D2;\n",
              "      --hover-bg-color: #E2EBFA;\n",
              "      --hover-fill-color: #174EA6;\n",
              "      --disabled-fill-color: #AAA;\n",
              "      --disabled-bg-color: #DDD;\n",
              "  }\n",
              "\n",
              "  [theme=dark] .colab-df-quickchart {\n",
              "      --bg-color: #3B4455;\n",
              "      --fill-color: #D2E3FC;\n",
              "      --hover-bg-color: #434B5C;\n",
              "      --hover-fill-color: #FFFFFF;\n",
              "      --disabled-bg-color: #3B4455;\n",
              "      --disabled-fill-color: #666;\n",
              "  }\n",
              "\n",
              "  .colab-df-quickchart {\n",
              "    background-color: var(--bg-color);\n",
              "    border: none;\n",
              "    border-radius: 50%;\n",
              "    cursor: pointer;\n",
              "    display: none;\n",
              "    fill: var(--fill-color);\n",
              "    height: 32px;\n",
              "    padding: 0;\n",
              "    width: 32px;\n",
              "  }\n",
              "\n",
              "  .colab-df-quickchart:hover {\n",
              "    background-color: var(--hover-bg-color);\n",
              "    box-shadow: 0 1px 2px rgba(60, 64, 67, 0.3), 0 1px 3px 1px rgba(60, 64, 67, 0.15);\n",
              "    fill: var(--button-hover-fill-color);\n",
              "  }\n",
              "\n",
              "  .colab-df-quickchart-complete:disabled,\n",
              "  .colab-df-quickchart-complete:disabled:hover {\n",
              "    background-color: var(--disabled-bg-color);\n",
              "    fill: var(--disabled-fill-color);\n",
              "    box-shadow: none;\n",
              "  }\n",
              "\n",
              "  .colab-df-spinner {\n",
              "    border: 2px solid var(--fill-color);\n",
              "    border-color: transparent;\n",
              "    border-bottom-color: var(--fill-color);\n",
              "    animation:\n",
              "      spin 1s steps(1) infinite;\n",
              "  }\n",
              "\n",
              "  @keyframes spin {\n",
              "    0% {\n",
              "      border-color: transparent;\n",
              "      border-bottom-color: var(--fill-color);\n",
              "      border-left-color: var(--fill-color);\n",
              "    }\n",
              "    20% {\n",
              "      border-color: transparent;\n",
              "      border-left-color: var(--fill-color);\n",
              "      border-top-color: var(--fill-color);\n",
              "    }\n",
              "    30% {\n",
              "      border-color: transparent;\n",
              "      border-left-color: var(--fill-color);\n",
              "      border-top-color: var(--fill-color);\n",
              "      border-right-color: var(--fill-color);\n",
              "    }\n",
              "    40% {\n",
              "      border-color: transparent;\n",
              "      border-right-color: var(--fill-color);\n",
              "      border-top-color: var(--fill-color);\n",
              "    }\n",
              "    60% {\n",
              "      border-color: transparent;\n",
              "      border-right-color: var(--fill-color);\n",
              "    }\n",
              "    80% {\n",
              "      border-color: transparent;\n",
              "      border-right-color: var(--fill-color);\n",
              "      border-bottom-color: var(--fill-color);\n",
              "    }\n",
              "    90% {\n",
              "      border-color: transparent;\n",
              "      border-bottom-color: var(--fill-color);\n",
              "    }\n",
              "  }\n",
              "</style>\n",
              "\n",
              "  <script>\n",
              "    async function quickchart(key) {\n",
              "      const quickchartButtonEl =\n",
              "        document.querySelector('#' + key + ' button');\n",
              "      quickchartButtonEl.disabled = true;  // To prevent multiple clicks.\n",
              "      quickchartButtonEl.classList.add('colab-df-spinner');\n",
              "      try {\n",
              "        const charts = await google.colab.kernel.invokeFunction(\n",
              "            'suggestCharts', [key], {});\n",
              "      } catch (error) {\n",
              "        console.error('Error during call to suggestCharts:', error);\n",
              "      }\n",
              "      quickchartButtonEl.classList.remove('colab-df-spinner');\n",
              "      quickchartButtonEl.classList.add('colab-df-quickchart-complete');\n",
              "    }\n",
              "    (() => {\n",
              "      let quickchartButtonEl =\n",
              "        document.querySelector('#df-807a1f2f-9057-4a3b-9a62-1b46900dd980 button');\n",
              "      quickchartButtonEl.style.display =\n",
              "        google.colab.kernel.accessAllowed ? 'block' : 'none';\n",
              "    })();\n",
              "  </script>\n",
              "</div>\n",
              "    </div>\n",
              "  </div>\n"
            ]
          },
          "metadata": {},
          "execution_count": 125
        }
      ]
    },
    {
      "cell_type": "code",
      "source": [
        "df1 = df1.drop(\"Subject ID\", \"MRI ID\")\n",
        "df1.show()"
      ],
      "metadata": {
        "colab": {
          "base_uri": "https://localhost:8080/"
        },
        "id": "P5uQ8BXN2ztt",
        "outputId": "1aff09b3-55b5-4e58-add5-505e8b2308d6"
      },
      "execution_count": 126,
      "outputs": [
        {
          "output_type": "stream",
          "name": "stdout",
          "text": [
            "+-----------+-----+--------+---+----+---+----+----+----+---+----+-----+-----+\n",
            "|      Group|Visit|MR Delay|M/F|Hand|Age|EDUC| SES|MMSE|CDR|eTIV| nWBV|  ASF|\n",
            "+-----------+-----+--------+---+----+---+----+----+----+---+----+-----+-----+\n",
            "|Nondemented|    1|       0|  M|   R| 87|  14|   2|  27|0.0|1987|0.696|0.883|\n",
            "|Nondemented|    2|     457|  M|   R| 88|  14|   2|  30|0.0|2004|0.681|0.876|\n",
            "|   Demented|    1|       0|  M|   R| 75|  12|null|  23|0.5|1678|0.736|1.046|\n",
            "|   Demented|    2|     560|  M|   R| 76|  12|null|  28|0.5|1738|0.713| 1.01|\n",
            "|   Demented|    3|    1895|  M|   R| 80|  12|null|  22|0.5|1698|0.701|1.034|\n",
            "|Nondemented|    1|       0|  F|   R| 88|  18|   3|  28|0.0|1215| 0.71|1.444|\n",
            "|Nondemented|    2|     538|  F|   R| 90|  18|   3|  27|0.0|1200|0.718|1.462|\n",
            "|Nondemented|    1|       0|  M|   R| 80|  12|   4|  28|0.0|1689|0.712|1.039|\n",
            "|Nondemented|    2|    1010|  M|   R| 83|  12|   4|  29|0.5|1701|0.711|1.032|\n",
            "|Nondemented|    3|    1603|  M|   R| 85|  12|   4|  30|0.0|1699|0.705|1.033|\n",
            "|   Demented|    1|       0|  M|   R| 71|  16|null|  28|0.5|1357|0.748|1.293|\n",
            "|   Demented|    3|     518|  M|   R| 73|  16|null|  27|1.0|1365|0.727|1.286|\n",
            "|   Demented|    4|    1281|  M|   R| 75|  16|null|  27|1.0|1372| 0.71|1.279|\n",
            "|Nondemented|    1|       0|  F|   R| 93|  14|   2|  30|0.0|1272|0.698| 1.38|\n",
            "|Nondemented|    2|     742|  F|   R| 95|  14|   2|  29|0.0|1257|0.703|1.396|\n",
            "|   Demented|    1|       0|  M|   R| 68|  12|   2|  27|0.5|1457|0.806|1.205|\n",
            "|   Demented|    2|     576|  M|   R| 69|  12|   2|  24|0.5|1480|0.791|1.186|\n",
            "|   Demented|    1|       0|  F|   R| 66|  12|   3|  30|0.5|1447|0.769|1.213|\n",
            "|   Demented|    2|     854|  F|   R| 68|  12|   3|  29|0.5|1482|0.752|1.184|\n",
            "|Nondemented|    1|       0|  F|   R| 78|  16|   2|  29|0.0|1333|0.748|1.316|\n",
            "+-----------+-----+--------+---+----+---+----+----+----+---+----+-----+-----+\n",
            "only showing top 20 rows\n",
            "\n"
          ]
        }
      ]
    },
    {
      "cell_type": "code",
      "source": [
        "\n",
        "print('Number of rows: \\t', df1.count())\n",
        "print('Number of columns: \\t', len(df1.columns))"
      ],
      "metadata": {
        "colab": {
          "base_uri": "https://localhost:8080/"
        },
        "id": "BrX_mFOWCYtS",
        "outputId": "0fbc9c1f-728b-46e2-a346-5ddd8f33a1e1"
      },
      "execution_count": 127,
      "outputs": [
        {
          "output_type": "stream",
          "name": "stdout",
          "text": [
            "Number of rows: \t 373\n",
            "Number of columns: \t 13\n"
          ]
        }
      ]
    },
    {
      "cell_type": "code",
      "source": [
        "#Grouping target cloumn according to result\n",
        "df1.groupBy('Group').count().show()"
      ],
      "metadata": {
        "colab": {
          "base_uri": "https://localhost:8080/"
        },
        "id": "0EOAgq9ZCYrC",
        "outputId": "b8a06747-699c-474a-9d5d-7cb7a77c7155"
      },
      "execution_count": 128,
      "outputs": [
        {
          "output_type": "stream",
          "name": "stdout",
          "text": [
            "+-----------+-----+\n",
            "|      Group|count|\n",
            "+-----------+-----+\n",
            "|   Demented|  146|\n",
            "|Nondemented|  190|\n",
            "|  Converted|   37|\n",
            "+-----------+-----+\n",
            "\n"
          ]
        }
      ]
    },
    {
      "cell_type": "code",
      "source": [
        "for col in df1.columns:\n",
        "    print(col.ljust(15), df1.filter(df1[col].isNull()).count())"
      ],
      "metadata": {
        "colab": {
          "base_uri": "https://localhost:8080/"
        },
        "id": "Uyn46SBPCYkv",
        "outputId": "63317f77-5178-4370-c889-8503290b4d8c"
      },
      "execution_count": 129,
      "outputs": [
        {
          "output_type": "stream",
          "name": "stdout",
          "text": [
            "Group           0\n",
            "Visit           0\n",
            "MR Delay        0\n",
            "M/F             0\n",
            "Hand            0\n",
            "Age             0\n",
            "EDUC            0\n",
            "SES             19\n",
            "MMSE            2\n",
            "CDR             0\n",
            "eTIV            0\n",
            "nWBV            0\n",
            "ASF             0\n"
          ]
        }
      ]
    },
    {
      "cell_type": "code",
      "source": [
        "#Finding max and meaan value\n",
        "df = df1.select('MMSE').summary('max', \"50%\", \"mean\")\n",
        "df.show()"
      ],
      "metadata": {
        "colab": {
          "base_uri": "https://localhost:8080/"
        },
        "id": "1lj2_phgCYit",
        "outputId": "1ac2fb2a-2516-4e68-ab2b-07d6461c1bfb"
      },
      "execution_count": 145,
      "outputs": [
        {
          "output_type": "stream",
          "name": "stdout",
          "text": [
            "+-------+-----------------+\n",
            "|summary|             MMSE|\n",
            "+-------+-----------------+\n",
            "|    max|               30|\n",
            "|    50%|               29|\n",
            "|   mean|27.27077747989276|\n",
            "+-------+-----------------+\n",
            "\n"
          ]
        }
      ]
    },
    {
      "cell_type": "code",
      "source": [
        "df1 = df1.fillna(27, subset=['MMSE'])\n"
      ],
      "metadata": {
        "id": "MKZGbFfkCYgk"
      },
      "execution_count": 147,
      "outputs": []
    },
    {
      "cell_type": "code",
      "source": [
        "#Finding max and meaan value\n",
        "df = df1.select('SES').summary('max', \"50%\", \"mean\")\n",
        "df.show()"
      ],
      "metadata": {
        "colab": {
          "base_uri": "https://localhost:8080/"
        },
        "id": "_FPzXR0RPfVd",
        "outputId": "dfe82e82-420f-4e06-e3f9-f3c4314fd362"
      },
      "execution_count": 148,
      "outputs": [
        {
          "output_type": "stream",
          "name": "stdout",
          "text": [
            "+-------+------------------+\n",
            "|summary|               SES|\n",
            "+-------+------------------+\n",
            "|    max|                 5|\n",
            "|    50%|                 2|\n",
            "|   mean|2.4369973190348526|\n",
            "+-------+------------------+\n",
            "\n"
          ]
        }
      ]
    },
    {
      "cell_type": "code",
      "source": [
        "df1 = df1.fillna(2, subset=['SES'])\n"
      ],
      "metadata": {
        "id": "uAqkYzcgPfR_"
      },
      "execution_count": 149,
      "outputs": []
    },
    {
      "cell_type": "code",
      "source": [
        "for col in df1.columns:\n",
        "    print(col.ljust(15), df1.filter(df1[col].isNull()).count())"
      ],
      "metadata": {
        "colab": {
          "base_uri": "https://localhost:8080/"
        },
        "id": "aZywFOItCYeU",
        "outputId": "e5b8c91a-e5cd-4342-a630-dddda50f9afe"
      },
      "execution_count": 150,
      "outputs": [
        {
          "output_type": "stream",
          "name": "stdout",
          "text": [
            "Group           0\n",
            "Visit           0\n",
            "MR Delay        0\n",
            "M/F             0\n",
            "Hand            0\n",
            "Age             0\n",
            "EDUC            0\n",
            "SES             0\n",
            "MMSE            0\n",
            "CDR             0\n",
            "eTIV            0\n",
            "nWBV            0\n",
            "ASF             0\n"
          ]
        }
      ]
    },
    {
      "cell_type": "markdown",
      "source": [
        "IMPLEMENTATION"
      ],
      "metadata": {
        "id": "0Y96J2fvQImK"
      }
    },
    {
      "cell_type": "code",
      "source": [
        "\n",
        "from pyspark.ml.feature import StringIndexer, VectorAssembler\n",
        "from pyspark.ml.classification import LogisticRegression,\\\n",
        "                    RandomForestClassifier, GBTClassifier\n",
        "from pyspark.ml.evaluation import MulticlassClassificationEvaluator\n",
        "from pyspark.ml import Pipeline\n",
        "from pyspark.ml.tuning import CrossValidator, ParamGridBuilder"
      ],
      "metadata": {
        "id": "kXcwMsGcCYcK"
      },
      "execution_count": 162,
      "outputs": []
    },
    {
      "cell_type": "code",
      "source": [
        "stringIndex = StringIndexer(inputCols=['Group', 'M/F','Hand'],\n",
        "                       outputCols=['Result', 'Gender','HAND'])\n",
        "\n",
        "stringIndex_model = stringIndex.fit(df1)\n",
        "\n",
        "df1_ = stringIndex_model.transform(df1).drop('Group', 'M/F','Hand')\n",
        "df1_.show(10)"
      ],
      "metadata": {
        "colab": {
          "base_uri": "https://localhost:8080/"
        },
        "id": "DBpd1jJfCYaB",
        "outputId": "67cd111d-d0d4-45ad-8a64-ca438202d58c"
      },
      "execution_count": 163,
      "outputs": [
        {
          "output_type": "stream",
          "name": "stdout",
          "text": [
            "+-----+--------+---+----+---+----+---+----+-----+-----+------+------+\n",
            "|Visit|MR Delay|Age|EDUC|SES|MMSE|CDR|eTIV| nWBV|  ASF|Result|Gender|\n",
            "+-----+--------+---+----+---+----+---+----+-----+-----+------+------+\n",
            "|    1|       0| 87|  14|  2|  27|0.0|1987|0.696|0.883|   0.0|   1.0|\n",
            "|    2|     457| 88|  14|  2|  30|0.0|2004|0.681|0.876|   0.0|   1.0|\n",
            "|    1|       0| 75|  12|  2|  23|0.5|1678|0.736|1.046|   1.0|   1.0|\n",
            "|    2|     560| 76|  12|  2|  28|0.5|1738|0.713| 1.01|   1.0|   1.0|\n",
            "|    3|    1895| 80|  12|  2|  22|0.5|1698|0.701|1.034|   1.0|   1.0|\n",
            "|    1|       0| 88|  18|  3|  28|0.0|1215| 0.71|1.444|   0.0|   0.0|\n",
            "|    2|     538| 90|  18|  3|  27|0.0|1200|0.718|1.462|   0.0|   0.0|\n",
            "|    1|       0| 80|  12|  4|  28|0.0|1689|0.712|1.039|   0.0|   1.0|\n",
            "|    2|    1010| 83|  12|  4|  29|0.5|1701|0.711|1.032|   0.0|   1.0|\n",
            "|    3|    1603| 85|  12|  4|  30|0.0|1699|0.705|1.033|   0.0|   1.0|\n",
            "+-----+--------+---+----+---+----+---+----+-----+-----+------+------+\n",
            "only showing top 10 rows\n",
            "\n"
          ]
        }
      ]
    },
    {
      "cell_type": "code",
      "source": [
        "#converitng dataset for model\n",
        "vec_asmbl = VectorAssembler(inputCols=df1_.columns[1:],\n",
        "                           outputCol='features')\n",
        "\n",
        "df1_ = vec_asmbl.transform(df1_).select('features', 'Result')\n",
        "df1_.show(4, truncate=False)"
      ],
      "metadata": {
        "colab": {
          "base_uri": "https://localhost:8080/"
        },
        "id": "Ier_E4AiR3iD",
        "outputId": "30ee840c-08e9-48b3-de61-8af139437d54"
      },
      "execution_count": 164,
      "outputs": [
        {
          "output_type": "stream",
          "name": "stdout",
          "text": [
            "+---------------------------------------------------------+------+\n",
            "|features                                                 |Result|\n",
            "+---------------------------------------------------------+------+\n",
            "|[0.0,87.0,14.0,2.0,27.0,0.0,1987.0,0.696,0.883,0.0,1.0]  |0.0   |\n",
            "|[457.0,88.0,14.0,2.0,30.0,0.0,2004.0,0.681,0.876,0.0,1.0]|0.0   |\n",
            "|[0.0,75.0,12.0,2.0,23.0,0.5,1678.0,0.736,1.046,1.0,1.0]  |1.0   |\n",
            "|[560.0,76.0,12.0,2.0,28.0,0.5,1738.0,0.713,1.01,1.0,1.0] |1.0   |\n",
            "+---------------------------------------------------------+------+\n",
            "only showing top 4 rows\n",
            "\n"
          ]
        }
      ]
    },
    {
      "cell_type": "code",
      "source": [
        "# Spliting train and test\n",
        "train_df, test_df = df1_.randomSplit([0.7, 0.3])"
      ],
      "metadata": {
        "id": "wgnRvT2FR3ee"
      },
      "execution_count": 154,
      "outputs": []
    },
    {
      "cell_type": "code",
      "source": [
        "evaluator = MulticlassClassificationEvaluator(labelCol='Result',\n",
        "                                          metricName='accuracy')"
      ],
      "metadata": {
        "id": "Mhxe0onPR3cz"
      },
      "execution_count": 155,
      "outputs": []
    },
    {
      "cell_type": "code",
      "source": [
        "#Logistic Regression model\n",
        "lr = LogisticRegression(labelCol='Result',\n",
        "                        maxIter=200,\n",
        "                        elasticNetParam=0,\n",
        "                        regParam=0.05)\n",
        "\n",
        "model = lr.fit(train_df)\n",
        "pred = model.transform(test_df)\n",
        "evaluator.evaluate(pred)"
      ],
      "metadata": {
        "colab": {
          "base_uri": "https://localhost:8080/"
        },
        "id": "0Eym40KtR3aP",
        "outputId": "8026cb95-56c2-48ad-dcfe-fac099a50559"
      },
      "execution_count": 156,
      "outputs": [
        {
          "output_type": "execute_result",
          "data": {
            "text/plain": [
              "0.98"
            ]
          },
          "metadata": {},
          "execution_count": 156
        }
      ]
    },
    {
      "cell_type": "code",
      "source": [
        "#Random Forest Classifier Model\n",
        "rf = RandomForestClassifier(labelCol='Result',\n",
        "                           numTrees=100, maxDepth=3)\n",
        "\n",
        "model = rf.fit(train_df)\n",
        "pred = model.transform(test_df)\n",
        "evaluator.evaluate(pred)"
      ],
      "metadata": {
        "colab": {
          "base_uri": "https://localhost:8080/"
        },
        "id": "sBCxWDO8GFYD",
        "outputId": "b59288ce-a4c2-4143-a7ec-f683c4c28fcc"
      },
      "execution_count": 157,
      "outputs": [
        {
          "output_type": "execute_result",
          "data": {
            "text/plain": [
              "1.0"
            ]
          },
          "metadata": {},
          "execution_count": 157
        }
      ]
    }
  ]
}